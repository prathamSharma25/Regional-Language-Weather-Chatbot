{
  "nbformat": 4,
  "nbformat_minor": 0,
  "metadata": {
    "colab": {
      "name": "Copy of Regional Language Weather Chatbot.ipynb",
      "provenance": [],
      "collapsed_sections": []
    },
    "kernelspec": {
      "name": "python3",
      "display_name": "Python 3"
    },
    "language_info": {
      "name": "python"
    }
  },
  "cells": [
    {
      "cell_type": "markdown",
      "metadata": {
        "id": "wQbShKPEPXET"
      },
      "source": [
        "<center>\n",
        "<h1><b>Regional Language Weather Chatbot</b></h1>\n",
        "<h3>Chatbot to address users' weather related queries in Gujarati language</h3>\n",
        "\n",
        "<img src=\"https://miro.medium.com/max/800/1*QVnVYYqQ6Wx4B74kOM-VFQ.png\" width=400px>\n",
        "</center>"
      ]
    },
    {
      "cell_type": "markdown",
      "metadata": {
        "id": "sMkR2DJcTYjp"
      },
      "source": [
        "This is a simple weather chatbot developed to address users' weather related queries in Gujarati language (one of the many regional languages of India).\n",
        "\n",
        "The chatbot is developed using Python, making use of packages such as NLTK (for natural language processing), PyOWM (for getting weather information from OpenWeatherMap API), and googletrans (for translating user input and output).\n",
        "\n",
        "Users can ask simple weather related queries such as \"What is the weather today?\" in Gujarati and the chatbot answers the query with appropriate information."
      ]
    },
    {
      "cell_type": "markdown",
      "metadata": {
        "id": "-M4Y_TtJT8bt"
      },
      "source": [
        "# Part 0: Environment Setup"
      ]
    },
    {
      "cell_type": "markdown",
      "metadata": {
        "id": "ypVm3HHmUN_Y"
      },
      "source": [
        "To develop this chatbot, the following packages and libraries are used:\n",
        "\n",
        "\n",
        "*   **Natural Language Toolkit (NLTK):** To perform natural language processing functions on user query, such as tokenization and stemming.\n",
        "*   **Googletrans:** Python wrapper for Google's Translate API, used to translate input and output to the users' language (regional language).\n",
        "*   **PyOWM:** Python wrapper for OpenWeatherMap's Weather API, which is used to collect current weather and weather forecast data for users' location.\n",
        "\n",
        "Other libraries required to develop functions and for housekeeping tasks are listed below:\n",
        "\n",
        "\n",
        "*   **Requests:** Used to get data from URLs through HTTP requests.\n",
        "*   **String:** For performing string operations.\n",
        "*   **Datetime:** To handle date and time data in appropriate formats.\n",
        "*   **JSON:** To work with data obtained from URLS.\n",
        "\n",
        "\n",
        "\n",
        "\n",
        "\n",
        "\n"
      ]
    },
    {
      "cell_type": "markdown",
      "metadata": {
        "id": "GkIjRwiPWQjF"
      },
      "source": [
        "In the following code cell, all required packages are installed and imported."
      ]
    },
    {
      "cell_type": "code",
      "metadata": {
        "id": "T-upsDmVCurw"
      },
      "source": [
        "# Install and import required libraries\n",
        "%%capture\n",
        "!pip install googletrans==4.0.0rc1                                              # translation of user input and output\n",
        "!pip install nltk==3.5                                                          # natural language processing operations\n",
        "!pip install pyowm==3.2.0                                                       # API calls to get weather data\n",
        "!pip install requests=2.25.1                                                    # data from URLs through HTTP requests\n",
        "from googletrans import Translator                                              # import Translator class for translation functions\n",
        "import nltk                                                                     \n",
        "nltk.download('stopwords', quiet=True)                                          # download all English stopwords\n",
        "from nltk.corpus import stopwords                                               # import stopwords package from NLTK\n",
        "from nltk.stem import PorterStemmer                                             # import PorterStemmer class to perform stemming\n",
        "import string                                                                   # string operations\n",
        "from pyowm import OWM                                                           # OWM class to get weather data\n",
        "from datetime import datetime                                                   # handle date and time\n",
        "import requests\n",
        "import json                                                                     # work with JSON data"
      ],
      "execution_count": null,
      "outputs": []
    },
    {
      "cell_type": "markdown",
      "metadata": {
        "id": "paJGbH7KXR1C"
      },
      "source": [
        "In the next code cell, important queries for the weather chatbot are defined. The chatbot handles user queries based on these pre-defined queries."
      ]
    },
    {
      "cell_type": "code",
      "metadata": {
        "id": "To_TXkAjPzgB"
      },
      "source": [
        "# Predefined queries for chatbot\n",
        "queries = ['what is the weather today',\n",
        "           'what is the temperature today',\n",
        "           'what is the maximum / highest temperature today',\n",
        "           'what is the minimum / lowest temperature today',\n",
        "           'what is the chance of rain today',\n",
        "           'what is the chance of rain tomorrow',\n",
        "           'what is the weather forecast for today',\n",
        "           'what is the weather forecast for tomorrow',\n",
        "           'what time is the sunset today',\n",
        "           'what time is the sunrise tomorrow']"
      ],
      "execution_count": null,
      "outputs": []
    },
    {
      "cell_type": "markdown",
      "metadata": {
        "id": "YbDotTTVXsTN"
      },
      "source": [
        "# Part 1: NLP for user queries"
      ]
    },
    {
      "cell_type": "markdown",
      "metadata": {
        "id": "D6zPyPGDX1QW"
      },
      "source": [
        "In this section, I have written the functions required to handle user input and process it for the next stages of the chatbot.\n",
        "\n",
        "The user provides input for his/her weather related queries in Gujarati language. In order to process users' queries, these are translated to English for better processing.\n",
        "\n",
        "The query is then processed using natural language processing operations such as tokenization, stopword removal and stemming.\n",
        "\n",
        "For this purpose, the following functions are coded:\n",
        "\n",
        "*   **Translation to English:** Used to translate user input to English.\n",
        "*   **Translation to Gujarati:** Used to translate output to Gujarati.\n",
        "*   **Tokenization:** To tokenize (split into individual words) translated user query.\n",
        "*   **Remove stopwords:** To remove stopwords from user query for more eficient processing.\n",
        "\n",
        "\n",
        "\n"
      ]
    },
    {
      "cell_type": "markdown",
      "metadata": {
        "id": "HEw6iMTJaU4m"
      },
      "source": [
        "In the following code cell, a Translator object is created for translation and the target language is set to Gujarati (gu)."
      ]
    },
    {
      "cell_type": "code",
      "metadata": {
        "id": "aiTfqRbDP5Sr"
      },
      "source": [
        "# Create Translator object for translation and set target language\n",
        "translator = Translator()                                                       # create Translator object\n",
        "target_lang = 'gu'                                                              # set target language as 'gu' for Gujarati"
      ],
      "execution_count": null,
      "outputs": []
    },
    {
      "cell_type": "markdown",
      "metadata": {
        "id": "3r1_zrrQabvr"
      },
      "source": [
        "The next 2 functions translate chatbot answer (output) to Gujarati and input user query to English respectively. For this purpose, the Translator object created in the previous code cell is used."
      ]
    },
    {
      "cell_type": "code",
      "metadata": {
        "id": "Xl6iLfENQIaZ"
      },
      "source": [
        "# Function to translate result to target language\n",
        "def translate_to_target_language(result):\n",
        "    return translator.translate(result, dest=target_lang).text                  # return Gujarati tranlsation of chatbot's answer"
      ],
      "execution_count": null,
      "outputs": []
    },
    {
      "cell_type": "code",
      "metadata": {
        "id": "SFUwlAKWQAEY"
      },
      "source": [
        "# Function to translate user query to English\n",
        "def translate_to_EN(user_query):                                                \n",
        "    return translator.translate(user_query, dest='en').text.lower()             # return English translation of user query (input)"
      ],
      "execution_count": null,
      "outputs": []
    },
    {
      "cell_type": "markdown",
      "metadata": {
        "id": "-NMKFCN1br5E"
      },
      "source": [
        "The following function tokenizes the user query, translated to English. First, all punctuations are removed from the input string using the string library.\n",
        "\n",
        "The input string is then split into its individual words. Each individual word is known as a token. Each token is then stemmed to its root form using an object of the PorterStemmer class.\n",
        "\n",
        "Finally, a list of tokens, stemmed to their root form are returned by the function for further processsing."
      ]
    },
    {
      "cell_type": "code",
      "metadata": {
        "id": "8I4Xl3LHQKob"
      },
      "source": [
        "# Function to remove punctuations, tokenize text and stem words in text\n",
        "def tokenize(text):\n",
        "    text = text.translate(str.maketrans('', '', string.punctuation))            # remove punctuations from input text\n",
        "    ps = PorterStemmer()                                                        # create object for PorterStemmer calss\n",
        "    tokens = []                                                                 # initialise empty list to store tokens\n",
        "    for token in text.split():\n",
        "        tokens.append(ps.stem(token))                                           # stem token and append to tokens list\n",
        "    return tokens                                                               # return list of stemmed tokens"
      ],
      "execution_count": null,
      "outputs": []
    },
    {
      "cell_type": "markdown",
      "metadata": {
        "id": "a4w5juJCeS6D"
      },
      "source": [
        "The following function is used to remove all stopwords, such as \"am\", \"are\", \"of\", etc., from input tokenized text. For this, English stopwords in the stopwords package of NLTK library are used.\n",
        "\n",
        "The function returns a set of tokens of the input text after stopword removal. Hence, only the keywords are retained."
      ]
    },
    {
      "cell_type": "code",
      "metadata": {
        "id": "t6cyQPB2QM8h"
      },
      "source": [
        "# Function to remove English stopwords from text\n",
        "def remove_stopwords(tokenized_text):\n",
        "    stopwords_EN = stopwords.words('english')                                   # all English stopwords\n",
        "    return set([word for word in tokenized_text if word not in stopwords_EN])   # return set of keywords only"
      ],
      "execution_count": null,
      "outputs": []
    },
    {
      "cell_type": "markdown",
      "metadata": {
        "id": "huk2jbsKY_z-"
      },
      "source": [
        "# Part 2: Understanding user query"
      ]
    },
    {
      "cell_type": "markdown",
      "metadata": {
        "id": "mv4eEyjxfjq6"
      },
      "source": [
        "In this part of the project, functions required to understand user query are developed for the chatbot to be able to answer them.\n",
        "\n",
        "After processing the user query, a similarity score between the users' query and chatbot's pre-defined queries is calculated in order to get the most similar query.\n",
        "\n",
        "The following functions are defined:\n",
        "*   **Jaccard Similarity:** To calculate degree of similarity between user query and pre-defined query based on Jaccard similarity.\n",
        "\n",
        "<center><img src=\"https://www.gstatic.com/education/formulas2/355397047/en/jaccard_index.svg\"></center>\n",
        "\n",
        "*   **Most similar query:** To determine the pre-defined chatbot query which is most similar to the input user query.\n",
        "\n"
      ]
    },
    {
      "cell_type": "markdown",
      "metadata": {
        "id": "GJOE6_UIjXQg"
      },
      "source": [
        "The following function calculates similarity score based on Jaccard similarity measure. In this case, I have chosen Jaccard similarity measure as it provides the most efficient and robust solution to the problem."
      ]
    },
    {
      "cell_type": "code",
      "metadata": {
        "id": "5F4as0XmQPtl"
      },
      "source": [
        "# Function to calculate Jaccard similarity between 2 texts\n",
        "def jaccard_similarity(set1, set2):\n",
        "    intersection = set1.intersection(set2)                                      # calculate intersection of 2 sets of tokens\n",
        "    union = set1.union(set2)                                                    # calculate union of 2 sets of tokens\n",
        "    return len(intersection)/len(union)                                         # return jaccard similarity score"
      ],
      "execution_count": null,
      "outputs": []
    },
    {
      "cell_type": "markdown",
      "metadata": {
        "id": "FFsOCOnTjMeH"
      },
      "source": [
        "The following function is used to determine which pre-defined chatbot query is most similar to the users' input query, based on Jaccard similarity measure."
      ]
    },
    {
      "cell_type": "code",
      "metadata": {
        "id": "QioCYlaBQT-P"
      },
      "source": [
        "# Function to determine query which is most similar to user query\n",
        "def most_similar_query(user_query_tokens):\n",
        "    highest_sim_score = 0.0                                                     # set initial highest similarity score to 0.0\n",
        "    most_sim_query = ''                                                         # set initial value for most similar query\n",
        "    for query in queries:\n",
        "        query_tokens = remove_stopwords(tokenize(query))                        # tokenize, stem and remove topwords from pre-defined query\n",
        "        sim_score = jaccard_similarity(user_query_tokens, query_tokens)         # calculate similarity score using jaccard_similarity() function\n",
        "        if sim_score>highest_sim_score:                                         \n",
        "            highest_sim_score = sim_score                                       # set highest similarity score\n",
        "            most_sim_query = query                                              # set value for most similar query\n",
        "    return most_sim_query                                                       # return the pre-defined query which is most similar to users' input query"
      ],
      "execution_count": null,
      "outputs": []
    },
    {
      "cell_type": "markdown",
      "metadata": {
        "id": "jEgO4EjSZIBJ"
      },
      "source": [
        "# Part 3: Getting weather data"
      ]
    },
    {
      "cell_type": "markdown",
      "metadata": {
        "id": "xXTTIyhVkBKS"
      },
      "source": [
        "The following sections contains functions to get weather data for the users' location and give output to the users.\n",
        "\n",
        "Based on the most similar query determined in the previous part, the chatbot queries the weather API for appropriate data. Weather data is specific to the users' location (city) which is determined from the users' IP data.\n",
        "\n",
        "Finally, an appropriate answer is given as output to the user by the chatbot.\n",
        "\n",
        "The following functions are defined:\n",
        "*   **User location:** To get current location of user based on IP data.\n",
        "*   **Weather information:** To get weather data from OpenWeatherMap's weather API and formulate an appropriate answer.\n",
        "\n",
        "<br><center><img src=\"https://19yw4b240vb03ws8qm25h366-wpengine.netdna-ssl.com/wp-content/uploads/OPENWEATHER-300x136.png\" width=400px><center><br>"
      ]
    },
    {
      "cell_type": "markdown",
      "metadata": {
        "id": "xUonTOWGmcfD"
      },
      "source": [
        "The following function determines users' current location based on IP data through the IP Data API. The function returns the users' current city."
      ]
    },
    {
      "cell_type": "code",
      "metadata": {
        "id": "H4XNeQwgQUu4"
      },
      "source": [
        "# Function to get user location through ipdata API\n",
        "def get_user_location():\n",
        "    api_key = 'YOUR-IPDATA-API-KEY'                                             # IP Data API key\n",
        "    ipdata = requests.get('https://api.ipdata.co?api-key=' + api_key).json()    # get IP data from IPData website through HTTP requests\n",
        "    return ipdata['city']                                                       # return users' current city"
      ],
      "execution_count": null,
      "outputs": []
    },
    {
      "cell_type": "markdown",
      "metadata": {
        "id": "e38KSu6WnO0X"
      },
      "source": [
        "The next code cell configures OpenWeatherMap's weather API using an API key and creates a weather managere object to get weather data from the API."
      ]
    },
    {
      "cell_type": "code",
      "metadata": {
        "id": "M3A5eQK8QXjU"
      },
      "source": [
        "# Configure PyOWM with OpenWeatherMap API key\n",
        "APIKEY = 'YOUR-OWM-API-KEY'                                                     # OpenWeatherMap API key\n",
        "owm = OWM(APIKEY)                                                               # configure with API key\n",
        "mgr = owm.weather_manager()                                                     # create weather manager object to get weather data"
      ],
      "execution_count": null,
      "outputs": []
    },
    {
      "cell_type": "markdown",
      "metadata": {
        "id": "pFc4IH81m6Wp"
      },
      "source": [
        "The following function formulates an appropriate answer to the users' input query and returns the output to be displayed to the user. The chatbot's answer is translated back to Gujarati for the user to be able to understand, using the translation function defined in Part 1.\n",
        "\n",
        "OpenWeatherMap's weather API is used to get weather data for the uers' current location."
      ]
    },
    {
      "cell_type": "code",
      "metadata": {
        "id": "XUfbfI66QaP5"
      },
      "source": [
        "# Function to get weather information based on query\n",
        "def weather_info(query):\n",
        "    user_city = get_user_location()                                             # get users' location (city)\n",
        "    weather_data = mgr.weather_at_place(user_city).weather                      # get weather data for users' city\n",
        "    forecast_3h = list(mgr.forecast_at_place(user_city, '3h').forecast)         # get weather forecast data\n",
        "\n",
        "    if query in queries:\n",
        "        index = queries.index(query)\n",
        "    else:\n",
        "        index = -1\n",
        "    if index==0:\n",
        "        status = str(weather_data.detailed_status)                              # get current weather status\n",
        "        current_temp = str(weather_data.temperature('celsius')['temp'])         # get current temperature (in degrees celsius)\n",
        "        max_temp = str(weather_data.temperature('celsius')['temp_max'])         # get maximum temperature (in degrees celsius)\n",
        "        min_temp = str(weather_data.temperature('celsius')['temp_min'])         # get minimum temperature (in degrees celsius)\n",
        "        humidity = str(weather_data.humidity)                                   # get humidity level (percentage)\n",
        "        result = status.capitalize() + \" today. Current temperature is \" + current_temp + \" degrees celsius (Maximum: \" + max_temp + \"*C, Minimum: \" + min_temp + \"*C). Humidity today is \" + humidity + \"%.\"\n",
        "        return result                                                           # return chatbot answer\n",
        "    elif index==1: \n",
        "        current_temp = str(weather_data.temperature('celsius')['temp'])         # get current temperature (in degrees celsius)\n",
        "        result = \"The current temperature is \" + current_temp + \" degrees celsius.\"\n",
        "        return result                                                           # return chatbot answer\n",
        "    elif index==2:\n",
        "        max_temp = str(weather_data.temperature('celsius')['temp_max'])         # get maximum temperature (in degrees celsius)\n",
        "        result = \"The maximum temperature today is \" + max_temp + \" degrees celsius.\"\n",
        "        return result                                                           # return chatbot answer\n",
        "    elif index==3:\n",
        "        min_temp = str(weather_data.temperature('celsius')['temp_min'])         # get minimum temperature (in degrees celsius)\n",
        "        result = \"The minimum temperature today is \" + min_temp + \" degrees celsius.\"\n",
        "        return result                                                           # return chatbot answer\n",
        "    elif index==4:\n",
        "        rain_today = weather_data.rain                                          # get data about rain today\n",
        "        if len(rain_today)==0:\n",
        "            result = \"There is no chance of rain today.\"            \n",
        "        else:\n",
        "            result = \"Rain today is \" + str(rain_today['1h']) + \".\"\n",
        "        return result                                                           # return chatbot answer\n",
        "    elif index==5:\n",
        "        rain_tomorrow = weather_data.rain                                       # get data about rain tomorrow\n",
        "        if len(rain_tomorrow)==0:\n",
        "            result = \"There is no chance of rain tomorrow.\"\n",
        "        else:\n",
        "            result = \"Rain tomorrow will be \" + str(rain_tomorrow['1h']) + \".\"\n",
        "        return result                                                           # return chatbot answer\n",
        "    elif index==6:\n",
        "        status = str(forecast_3h[0].detailed_status)                            # get today's forecasted weather status for users' location\n",
        "        result = status.capitalize() + \" forecasted today.\"                     # formulate answer\n",
        "        return result                                                           # return chatbot answer\n",
        "    elif index==7:\n",
        "        status = str(forecast_3h[-1].detailed_status)                           # get forecasted weather for tomorrow\n",
        "        result = status.capitalize() + \" forecasted tomorrow.\"                  # formulate answer\n",
        "        return result                                                           # return chatbot answer\n",
        "    elif index==8:\n",
        "        sunset_time_unix = weather_data.sunset_time() + 19800                   # get time of sunset at users' location\n",
        "        sunset_time = str(datetime.fromtimestamp(sunset_time_unix).strftime('%H:%M:%S'))\n",
        "        result = \"Time of sunset today is \" + sunset_time + \".\"                 # formulate chatbot answer\n",
        "        return result                                                           # return chatbot answer\n",
        "    elif index==9:\n",
        "        sunrise_time_unix = weather_data.sunrise_time() + 19800                 # get time of sunrise tomorrow\n",
        "        sunrise_time = str(datetime.fromtimestamp(sunrise_time_unix).strftime('%H:%M:%S'))\n",
        "        result = \"Time of sunrise tomorrow will be \" + sunrise_time + \".\"       # formulate chatbot answer\n",
        "        return result                                                           # return chatbot answer\n",
        "    else:\n",
        "        result = \"I am sorry, I don't understand your question.\"\n",
        "        return result                                                           # return apology if user query is not understood"
      ],
      "execution_count": null,
      "outputs": []
    },
    {
      "cell_type": "markdown",
      "metadata": {
        "id": "4ZajcYpsZNEx"
      },
      "source": [
        "# Part 4: Building the chatbot"
      ]
    },
    {
      "cell_type": "markdown",
      "metadata": {
        "id": "Ny6RZos2qI8_"
      },
      "source": [
        "In the final part of this project, I have developed greeting and goodbye functions for the chatbot to greet the user at the start and end of a chat. A greeting and goodbye is printed as output to the user.\n",
        "\n",
        "The chatbot is run and user query is taken as input from the user in the regional language.\n",
        "\n",
        "The following functions are defined in this section:\n",
        "*   **Greeting:** To greet the user at the start of a chat.\n",
        "*   **Goodbye:** To greet the user at the end of a chat.\n",
        "*   **Run:** Main function to run the chatbot and start talking.\n",
        "\n",
        "\n",
        "\n"
      ]
    },
    {
      "cell_type": "code",
      "metadata": {
        "id": "1tgj90uvQdSp"
      },
      "source": [
        "# Function to greet user at start of chat\n",
        "def greet():\n",
        "    greeting = translator.translate(\"Hello! I am your weather assistant. Ask me queries related to weather. \\n\\nTo end this chat, say 'goodbye'.\", dest=target_lang).text\n",
        "    print(greeting)                                                             # greet user at start of chat\n",
        "    \n",
        "# Function to say goodbye to user at end of chat\n",
        "def goodbye():\n",
        "    goodbye = translator.translate(\"Goodbye! Have a nice day!\", dest=target_lang).text\n",
        "    print('\\n\\n' + goodbye)                                                     # greet user at end of chat"
      ],
      "execution_count": null,
      "outputs": []
    },
    {
      "cell_type": "code",
      "metadata": {
        "id": "e6_YjFtVQgwZ"
      },
      "source": [
        "# Function to run chatbot\n",
        "def run():\n",
        "    talking = True                                                              # set boolean variable 'talking' to True at start of chat\n",
        "    greet()                                                                     # greet the user\n",
        "    while(talking):\n",
        "        prompt = translator.translate(\"Ask your query here\", dest=target_lang).text\n",
        "        user_query_GJ = input('\\n\\n' + prompt + \": \")                           # get user query as input in Gujarati\n",
        "        user_query_EN = translate_to_EN(user_query_GJ)                          # translate user query to English\n",
        "        if user_query_EN=='goodbye' or user_query_EN=='see you soon':           \n",
        "            talking = False                                                     # set boolean variable 'talking' to False to break loop and end chat\n",
        "            break\n",
        "        else:\n",
        "            user_query_EN_tokens = remove_stopwords(tokenize(user_query_EN))    # tokenize user query and remove stopwords\n",
        "            chatbot_query = most_similar_query(user_query_EN_tokens)            # get most similary chatbot query for users' input query\n",
        "            output = translate_to_target_language(weather_info(chatbot_query))  # formulate chatbot's answer (output to user)\n",
        "            print('\\n' + output)                                                # display output to user in Gujarati\n",
        "    goodbye()                                                                   # greet user at the end of chat\n",
        "    return"
      ],
      "execution_count": null,
      "outputs": []
    },
    {
      "cell_type": "code",
      "metadata": {
        "id": "i5Eb0AydQj3s",
        "colab": {
          "base_uri": "https://localhost:8080/"
        },
        "outputId": "2acaec1e-504f-4505-c1cf-0242c10de3e9"
      },
      "source": [
        "# Start chatbot\n",
        "run()"
      ],
      "execution_count": null,
      "outputs": [
        {
          "output_type": "stream",
          "text": [
            "નમસ્તે!હું તમારો હવામાન સહાયક છું.મને હવામાનથી સંબંધિત પ્રશ્નો પૂછો.\n",
            "\n",
            "આ ચેટને સમાપ્ત કરવા માટે, 'ગુડબાય' કહો.\n",
            "\n",
            "\n",
            "અહીં તમારી ક્વેરી પૂછો: આજે હવામાન\n",
            "\n",
            "આજે સ્પષ્ટ આકાશ.વર્તમાન તાપમાન 39.0 ડિગ્રી સેલ્સિયસ છે (મહત્તમ: 39.0 * સી, ન્યૂનતમ: 39.0 * સી).આજે ભેજ 30% છે.\n",
            "\n",
            "\n",
            "અહીં તમારી ક્વેરી પૂછો: આજે સૂર્યાસ્ત\n",
            "\n",
            "સૂર્યાસ્તનો સમય આજે 18:53:21 છે.\n",
            "\n",
            "\n",
            "અહીં તમારી ક્વેરી પૂછો: આવજો\n",
            "\n",
            "\n",
            "આવજો! તમારો દિવસ શુભ રહે!\n"
          ],
          "name": "stdout"
        }
      ]
    }
  ]
}
